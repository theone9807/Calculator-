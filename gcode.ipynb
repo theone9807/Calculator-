{
 "cells": [
  {
   "cell_type": "code",
   "execution_count": 12,
   "metadata": {},
   "outputs": [
    {
     "name": "stdout",
     "output_type": "stream",
     "text": [
      "Please type the first number: 2\n",
      "Please type the second number: 3\n",
      "What operation would you like to perform?        \n",
      "Choose between \"+, -, *, /\" : +\n",
      "2 + 3 = 5\n"
     ]
    }
   ],
   "source": [
    "\"\"\"\n",
    "Q: Calculator - A simple calculator to do basic operators. Make it a scientific calculator\n",
    "   for added complexity.\n",
    "\"\"\"\n",
    "def calculator(a, b, op):\n",
    "    \n",
    "\n",
    "    if op not in '+-/*':\n",
    "        return 'Please only type one of these characters: \"+, -, *, /\" '\n",
    "\n",
    "    if op == '+':\n",
    "        return(str(a) + ' ' + op + ' ' + str(b) + ' = ' + str(a + b))\n",
    "    if op == '-':\n",
    "        return(str(a) + ' ' + op + ' ' + str(b) + ' = ' + str(a - b))\n",
    "    if op == '*':\n",
    "        return(str(a) + ' ' + op + ' ' + str(b) + ' = ' + str(a * b))\n",
    "    if op == '/':\n",
    "        return(str(a) + ' ' + op + ' ' + str(b) + ' = ' + str(a / b))\n",
    "\n",
    "\n",
    "def main():  \n",
    "\n",
    "    a = int(input('Please type the first number: '))\n",
    "    b = int(input('Please type the second number: '))\n",
    "    op = input('What operation would you like to perform?\\\n",
    "        \\nChoose between \"+, -, *, /\" : ')\n",
    "\n",
    "    print(calculator(a, b, op))\n",
    "\n",
    "#this is done to call only main function and all the remaining will be called\n",
    "if __name__ == '__main__':\n",
    "    main()"
   ]
  },
  {
   "cell_type": "code",
   "execution_count": null,
   "metadata": {},
   "outputs": [],
   "source": []
  }
 ],
 "metadata": {
  "kernelspec": {
   "display_name": "Python 3",
   "language": "python",
   "name": "python3"
  },
  "language_info": {
   "codemirror_mode": {
    "name": "ipython",
    "version": 3
   },
   "file_extension": ".py",
   "mimetype": "text/x-python",
   "name": "python",
   "nbconvert_exporter": "python",
   "pygments_lexer": "ipython3",
   "version": "3.6.6"
  }
 },
 "nbformat": 4,
 "nbformat_minor": 2
}
